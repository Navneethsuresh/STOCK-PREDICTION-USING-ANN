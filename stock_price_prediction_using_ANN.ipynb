{
  "cells": [
    {
      "cell_type": "code",
      "execution_count": 14,
      "metadata": {
        "deletable": true,
        "editable": true,
        "scrolled": true,
        "colab": {
          "base_uri": "https://localhost:8080/"
        },
        "id": "nEOFj0BJnbm8",
        "outputId": "62e45302-fd12-4b76-fc28-82f05fad08fd"
      },
      "outputs": [
        {
          "output_type": "stream",
          "name": "stderr",
          "text": [
            "<ipython-input-14-a0030765309d>:4: FutureWarning: The pandas.datetime class is deprecated and will be removed from pandas in a future version. Import from datetime module instead.\n",
            "  from pandas import datetime\n"
          ]
        }
      ],
      "source": [
        "import numpy as np\n",
        "import matplotlib.pyplot as plt\n",
        "import pandas as pd\n",
        "from pandas import datetime\n",
        "import math\n",
        "from math import sqrt\n",
        "from keras.models import Sequential\n",
        "from keras.layers.core import Dense, Dropout, Activation"
      ]
    },
    {
      "cell_type": "markdown",
      "metadata": {
        "deletable": true,
        "editable": true,
        "id": "NIZr_-Jgnbm9"
      },
      "source": [
        "* Get the stock data from Yahoo finance as a CSV for any company. \n",
        "* Drop all other columns (Volume, Year, Month and Day) and retain Open, High and Close - since I'm just predicting the close value for a day"
      ]
    },
    {
      "cell_type": "code",
      "execution_count": 15,
      "metadata": {
        "collapsed": true,
        "deletable": true,
        "editable": true,
        "id": "fe6iS5Qfnbm-"
      },
      "outputs": [],
      "source": [
        "def get_stock_data(normalized=0):\n",
        "    url = \"EDELWEISSNS.csv\"\n",
        "    col_names = ['Date','Open','High','Low','Close','Volume','Adj Close']\n",
        "    stocks = pd.read_csv(url, header=0, names=col_names) \n",
        "    df = pd.DataFrame(stocks)\n",
        "    date_split = df['Date'].str.split('-').str\n",
        "    df['Year'], df['Month'], df['Day'] = date_split\n",
        "    df[\"Volume\"] = df[\"Volume\"] / 10000\n",
        "    return df"
      ]
    },
    {
      "cell_type": "code",
      "execution_count": 16,
      "metadata": {
        "deletable": true,
        "editable": true,
        "colab": {
          "base_uri": "https://localhost:8080/",
          "height": 241
        },
        "id": "kZFqBEJMnbm-",
        "outputId": "be3b032d-5047-4d87-80ee-88c53485223f"
      },
      "outputs": [
        {
          "output_type": "stream",
          "name": "stderr",
          "text": [
            "<ipython-input-15-35126cabdc61>:7: FutureWarning: Columnar iteration over characters will be deprecated in future releases.\n",
            "  df['Year'], df['Month'], df['Day'] = date_split\n"
          ]
        },
        {
          "output_type": "execute_result",
          "data": {
            "text/plain": [
              "         Date       Open       High        Low      Close    Volume  \\\n",
              "0  2008-10-03  41.299999  41.685001  39.400002  40.525002  0.002930   \n",
              "1  2008-10-06  39.700001  40.799999  37.200001  39.564999  0.002860   \n",
              "2  2008-10-07  40.000000  40.599998  36.000000  36.119999  0.002611   \n",
              "3  2008-10-08  35.000000  44.400002  34.500000  40.880001  0.002955   \n",
              "4  2008-10-10  40.400002  40.400002  35.299999  37.910000  0.002741   \n",
              "\n",
              "   Adj Close  Year Month Day  \n",
              "0   185090.0  2008    10  03  \n",
              "1   204340.0  2008    10  06  \n",
              "2   128970.0  2008    10  07  \n",
              "3   700490.0  2008    10  08  \n",
              "4   367380.0  2008    10  10  "
            ],
            "text/html": [
              "\n",
              "  <div id=\"df-2ebbb89a-0d36-4c31-ad9c-1026778481f3\">\n",
              "    <div class=\"colab-df-container\">\n",
              "      <div>\n",
              "<style scoped>\n",
              "    .dataframe tbody tr th:only-of-type {\n",
              "        vertical-align: middle;\n",
              "    }\n",
              "\n",
              "    .dataframe tbody tr th {\n",
              "        vertical-align: top;\n",
              "    }\n",
              "\n",
              "    .dataframe thead th {\n",
              "        text-align: right;\n",
              "    }\n",
              "</style>\n",
              "<table border=\"1\" class=\"dataframe\">\n",
              "  <thead>\n",
              "    <tr style=\"text-align: right;\">\n",
              "      <th></th>\n",
              "      <th>Date</th>\n",
              "      <th>Open</th>\n",
              "      <th>High</th>\n",
              "      <th>Low</th>\n",
              "      <th>Close</th>\n",
              "      <th>Volume</th>\n",
              "      <th>Adj Close</th>\n",
              "      <th>Year</th>\n",
              "      <th>Month</th>\n",
              "      <th>Day</th>\n",
              "    </tr>\n",
              "  </thead>\n",
              "  <tbody>\n",
              "    <tr>\n",
              "      <th>0</th>\n",
              "      <td>2008-10-03</td>\n",
              "      <td>41.299999</td>\n",
              "      <td>41.685001</td>\n",
              "      <td>39.400002</td>\n",
              "      <td>40.525002</td>\n",
              "      <td>0.002930</td>\n",
              "      <td>185090.0</td>\n",
              "      <td>2008</td>\n",
              "      <td>10</td>\n",
              "      <td>03</td>\n",
              "    </tr>\n",
              "    <tr>\n",
              "      <th>1</th>\n",
              "      <td>2008-10-06</td>\n",
              "      <td>39.700001</td>\n",
              "      <td>40.799999</td>\n",
              "      <td>37.200001</td>\n",
              "      <td>39.564999</td>\n",
              "      <td>0.002860</td>\n",
              "      <td>204340.0</td>\n",
              "      <td>2008</td>\n",
              "      <td>10</td>\n",
              "      <td>06</td>\n",
              "    </tr>\n",
              "    <tr>\n",
              "      <th>2</th>\n",
              "      <td>2008-10-07</td>\n",
              "      <td>40.000000</td>\n",
              "      <td>40.599998</td>\n",
              "      <td>36.000000</td>\n",
              "      <td>36.119999</td>\n",
              "      <td>0.002611</td>\n",
              "      <td>128970.0</td>\n",
              "      <td>2008</td>\n",
              "      <td>10</td>\n",
              "      <td>07</td>\n",
              "    </tr>\n",
              "    <tr>\n",
              "      <th>3</th>\n",
              "      <td>2008-10-08</td>\n",
              "      <td>35.000000</td>\n",
              "      <td>44.400002</td>\n",
              "      <td>34.500000</td>\n",
              "      <td>40.880001</td>\n",
              "      <td>0.002955</td>\n",
              "      <td>700490.0</td>\n",
              "      <td>2008</td>\n",
              "      <td>10</td>\n",
              "      <td>08</td>\n",
              "    </tr>\n",
              "    <tr>\n",
              "      <th>4</th>\n",
              "      <td>2008-10-10</td>\n",
              "      <td>40.400002</td>\n",
              "      <td>40.400002</td>\n",
              "      <td>35.299999</td>\n",
              "      <td>37.910000</td>\n",
              "      <td>0.002741</td>\n",
              "      <td>367380.0</td>\n",
              "      <td>2008</td>\n",
              "      <td>10</td>\n",
              "      <td>10</td>\n",
              "    </tr>\n",
              "  </tbody>\n",
              "</table>\n",
              "</div>\n",
              "      <button class=\"colab-df-convert\" onclick=\"convertToInteractive('df-2ebbb89a-0d36-4c31-ad9c-1026778481f3')\"\n",
              "              title=\"Convert this dataframe to an interactive table.\"\n",
              "              style=\"display:none;\">\n",
              "        \n",
              "  <svg xmlns=\"http://www.w3.org/2000/svg\" height=\"24px\"viewBox=\"0 0 24 24\"\n",
              "       width=\"24px\">\n",
              "    <path d=\"M0 0h24v24H0V0z\" fill=\"none\"/>\n",
              "    <path d=\"M18.56 5.44l.94 2.06.94-2.06 2.06-.94-2.06-.94-.94-2.06-.94 2.06-2.06.94zm-11 1L8.5 8.5l.94-2.06 2.06-.94-2.06-.94L8.5 2.5l-.94 2.06-2.06.94zm10 10l.94 2.06.94-2.06 2.06-.94-2.06-.94-.94-2.06-.94 2.06-2.06.94z\"/><path d=\"M17.41 7.96l-1.37-1.37c-.4-.4-.92-.59-1.43-.59-.52 0-1.04.2-1.43.59L10.3 9.45l-7.72 7.72c-.78.78-.78 2.05 0 2.83L4 21.41c.39.39.9.59 1.41.59.51 0 1.02-.2 1.41-.59l7.78-7.78 2.81-2.81c.8-.78.8-2.07 0-2.86zM5.41 20L4 18.59l7.72-7.72 1.47 1.35L5.41 20z\"/>\n",
              "  </svg>\n",
              "      </button>\n",
              "      \n",
              "  <style>\n",
              "    .colab-df-container {\n",
              "      display:flex;\n",
              "      flex-wrap:wrap;\n",
              "      gap: 12px;\n",
              "    }\n",
              "\n",
              "    .colab-df-convert {\n",
              "      background-color: #E8F0FE;\n",
              "      border: none;\n",
              "      border-radius: 50%;\n",
              "      cursor: pointer;\n",
              "      display: none;\n",
              "      fill: #1967D2;\n",
              "      height: 32px;\n",
              "      padding: 0 0 0 0;\n",
              "      width: 32px;\n",
              "    }\n",
              "\n",
              "    .colab-df-convert:hover {\n",
              "      background-color: #E2EBFA;\n",
              "      box-shadow: 0px 1px 2px rgba(60, 64, 67, 0.3), 0px 1px 3px 1px rgba(60, 64, 67, 0.15);\n",
              "      fill: #174EA6;\n",
              "    }\n",
              "\n",
              "    [theme=dark] .colab-df-convert {\n",
              "      background-color: #3B4455;\n",
              "      fill: #D2E3FC;\n",
              "    }\n",
              "\n",
              "    [theme=dark] .colab-df-convert:hover {\n",
              "      background-color: #434B5C;\n",
              "      box-shadow: 0px 1px 3px 1px rgba(0, 0, 0, 0.15);\n",
              "      filter: drop-shadow(0px 1px 2px rgba(0, 0, 0, 0.3));\n",
              "      fill: #FFFFFF;\n",
              "    }\n",
              "  </style>\n",
              "\n",
              "      <script>\n",
              "        const buttonEl =\n",
              "          document.querySelector('#df-2ebbb89a-0d36-4c31-ad9c-1026778481f3 button.colab-df-convert');\n",
              "        buttonEl.style.display =\n",
              "          google.colab.kernel.accessAllowed ? 'block' : 'none';\n",
              "\n",
              "        async function convertToInteractive(key) {\n",
              "          const element = document.querySelector('#df-2ebbb89a-0d36-4c31-ad9c-1026778481f3');\n",
              "          const dataTable =\n",
              "            await google.colab.kernel.invokeFunction('convertToInteractive',\n",
              "                                                     [key], {});\n",
              "          if (!dataTable) return;\n",
              "\n",
              "          const docLinkHtml = 'Like what you see? Visit the ' +\n",
              "            '<a target=\"_blank\" href=https://colab.research.google.com/notebooks/data_table.ipynb>data table notebook</a>'\n",
              "            + ' to learn more about interactive tables.';\n",
              "          element.innerHTML = '';\n",
              "          dataTable['output_type'] = 'display_data';\n",
              "          await google.colab.output.renderOutput(dataTable, element);\n",
              "          const docLink = document.createElement('div');\n",
              "          docLink.innerHTML = docLinkHtml;\n",
              "          element.appendChild(docLink);\n",
              "        }\n",
              "      </script>\n",
              "    </div>\n",
              "  </div>\n",
              "  "
            ]
          },
          "metadata": {},
          "execution_count": 16
        }
      ],
      "source": [
        "df = get_stock_data(0)\n",
        "df.head()"
      ]
    },
    {
      "cell_type": "code",
      "execution_count": 17,
      "metadata": {
        "deletable": true,
        "editable": true,
        "colab": {
          "base_uri": "https://localhost:8080/",
          "height": 206
        },
        "id": "zy9tEG92nbm_",
        "outputId": "b7428309-1024-4142-c731-5253e4b757fb"
      },
      "outputs": [
        {
          "output_type": "execute_result",
          "data": {
            "text/plain": [
              "        Open       High      Close    Volume\n",
              "0  41.299999  41.685001  40.525002  0.002930\n",
              "1  39.700001  40.799999  39.564999  0.002860\n",
              "2  40.000000  40.599998  36.119999  0.002611\n",
              "3  35.000000  44.400002  40.880001  0.002955\n",
              "4  40.400002  40.400002  37.910000  0.002741"
            ],
            "text/html": [
              "\n",
              "  <div id=\"df-f5470185-6cb9-4755-b493-bef7e96a733c\">\n",
              "    <div class=\"colab-df-container\">\n",
              "      <div>\n",
              "<style scoped>\n",
              "    .dataframe tbody tr th:only-of-type {\n",
              "        vertical-align: middle;\n",
              "    }\n",
              "\n",
              "    .dataframe tbody tr th {\n",
              "        vertical-align: top;\n",
              "    }\n",
              "\n",
              "    .dataframe thead th {\n",
              "        text-align: right;\n",
              "    }\n",
              "</style>\n",
              "<table border=\"1\" class=\"dataframe\">\n",
              "  <thead>\n",
              "    <tr style=\"text-align: right;\">\n",
              "      <th></th>\n",
              "      <th>Open</th>\n",
              "      <th>High</th>\n",
              "      <th>Close</th>\n",
              "      <th>Volume</th>\n",
              "    </tr>\n",
              "  </thead>\n",
              "  <tbody>\n",
              "    <tr>\n",
              "      <th>0</th>\n",
              "      <td>41.299999</td>\n",
              "      <td>41.685001</td>\n",
              "      <td>40.525002</td>\n",
              "      <td>0.002930</td>\n",
              "    </tr>\n",
              "    <tr>\n",
              "      <th>1</th>\n",
              "      <td>39.700001</td>\n",
              "      <td>40.799999</td>\n",
              "      <td>39.564999</td>\n",
              "      <td>0.002860</td>\n",
              "    </tr>\n",
              "    <tr>\n",
              "      <th>2</th>\n",
              "      <td>40.000000</td>\n",
              "      <td>40.599998</td>\n",
              "      <td>36.119999</td>\n",
              "      <td>0.002611</td>\n",
              "    </tr>\n",
              "    <tr>\n",
              "      <th>3</th>\n",
              "      <td>35.000000</td>\n",
              "      <td>44.400002</td>\n",
              "      <td>40.880001</td>\n",
              "      <td>0.002955</td>\n",
              "    </tr>\n",
              "    <tr>\n",
              "      <th>4</th>\n",
              "      <td>40.400002</td>\n",
              "      <td>40.400002</td>\n",
              "      <td>37.910000</td>\n",
              "      <td>0.002741</td>\n",
              "    </tr>\n",
              "  </tbody>\n",
              "</table>\n",
              "</div>\n",
              "      <button class=\"colab-df-convert\" onclick=\"convertToInteractive('df-f5470185-6cb9-4755-b493-bef7e96a733c')\"\n",
              "              title=\"Convert this dataframe to an interactive table.\"\n",
              "              style=\"display:none;\">\n",
              "        \n",
              "  <svg xmlns=\"http://www.w3.org/2000/svg\" height=\"24px\"viewBox=\"0 0 24 24\"\n",
              "       width=\"24px\">\n",
              "    <path d=\"M0 0h24v24H0V0z\" fill=\"none\"/>\n",
              "    <path d=\"M18.56 5.44l.94 2.06.94-2.06 2.06-.94-2.06-.94-.94-2.06-.94 2.06-2.06.94zm-11 1L8.5 8.5l.94-2.06 2.06-.94-2.06-.94L8.5 2.5l-.94 2.06-2.06.94zm10 10l.94 2.06.94-2.06 2.06-.94-2.06-.94-.94-2.06-.94 2.06-2.06.94z\"/><path d=\"M17.41 7.96l-1.37-1.37c-.4-.4-.92-.59-1.43-.59-.52 0-1.04.2-1.43.59L10.3 9.45l-7.72 7.72c-.78.78-.78 2.05 0 2.83L4 21.41c.39.39.9.59 1.41.59.51 0 1.02-.2 1.41-.59l7.78-7.78 2.81-2.81c.8-.78.8-2.07 0-2.86zM5.41 20L4 18.59l7.72-7.72 1.47 1.35L5.41 20z\"/>\n",
              "  </svg>\n",
              "      </button>\n",
              "      \n",
              "  <style>\n",
              "    .colab-df-container {\n",
              "      display:flex;\n",
              "      flex-wrap:wrap;\n",
              "      gap: 12px;\n",
              "    }\n",
              "\n",
              "    .colab-df-convert {\n",
              "      background-color: #E8F0FE;\n",
              "      border: none;\n",
              "      border-radius: 50%;\n",
              "      cursor: pointer;\n",
              "      display: none;\n",
              "      fill: #1967D2;\n",
              "      height: 32px;\n",
              "      padding: 0 0 0 0;\n",
              "      width: 32px;\n",
              "    }\n",
              "\n",
              "    .colab-df-convert:hover {\n",
              "      background-color: #E2EBFA;\n",
              "      box-shadow: 0px 1px 2px rgba(60, 64, 67, 0.3), 0px 1px 3px 1px rgba(60, 64, 67, 0.15);\n",
              "      fill: #174EA6;\n",
              "    }\n",
              "\n",
              "    [theme=dark] .colab-df-convert {\n",
              "      background-color: #3B4455;\n",
              "      fill: #D2E3FC;\n",
              "    }\n",
              "\n",
              "    [theme=dark] .colab-df-convert:hover {\n",
              "      background-color: #434B5C;\n",
              "      box-shadow: 0px 1px 3px 1px rgba(0, 0, 0, 0.15);\n",
              "      filter: drop-shadow(0px 1px 2px rgba(0, 0, 0, 0.3));\n",
              "      fill: #FFFFFF;\n",
              "    }\n",
              "  </style>\n",
              "\n",
              "      <script>\n",
              "        const buttonEl =\n",
              "          document.querySelector('#df-f5470185-6cb9-4755-b493-bef7e96a733c button.colab-df-convert');\n",
              "        buttonEl.style.display =\n",
              "          google.colab.kernel.accessAllowed ? 'block' : 'none';\n",
              "\n",
              "        async function convertToInteractive(key) {\n",
              "          const element = document.querySelector('#df-f5470185-6cb9-4755-b493-bef7e96a733c');\n",
              "          const dataTable =\n",
              "            await google.colab.kernel.invokeFunction('convertToInteractive',\n",
              "                                                     [key], {});\n",
              "          if (!dataTable) return;\n",
              "\n",
              "          const docLinkHtml = 'Like what you see? Visit the ' +\n",
              "            '<a target=\"_blank\" href=https://colab.research.google.com/notebooks/data_table.ipynb>data table notebook</a>'\n",
              "            + ' to learn more about interactive tables.';\n",
              "          element.innerHTML = '';\n",
              "          dataTable['output_type'] = 'display_data';\n",
              "          await google.colab.output.renderOutput(dataTable, element);\n",
              "          const docLink = document.createElement('div');\n",
              "          docLink.innerHTML = docLinkHtml;\n",
              "          element.appendChild(docLink);\n",
              "        }\n",
              "      </script>\n",
              "    </div>\n",
              "  </div>\n",
              "  "
            ]
          },
          "metadata": {},
          "execution_count": 17
        }
      ],
      "source": [
        "df.drop(df.columns[[0,3,6, 7,8,9]], axis=1, inplace=True)\n",
        "df.head()"
      ]
    },
    {
      "cell_type": "markdown",
      "metadata": {
        "deletable": true,
        "editable": true,
        "id": "L-eECFmpnbm_"
      },
      "source": [
        "<h2>Normalizing and removing the null data points</h2>"
      ]
    },
    {
      "cell_type": "code",
      "execution_count": 18,
      "metadata": {
        "deletable": true,
        "editable": true,
        "colab": {
          "base_uri": "https://localhost:8080/"
        },
        "id": "QZ_zB4sxnbm_",
        "outputId": "eafb4845-48c4-4c88-f18f-f5a19c7acc82"
      },
      "outputs": [
        {
          "output_type": "stream",
          "name": "stdout",
          "text": [
            "       Open     High    Close    Volume\n",
            "0     0.413  0.41685  0.40525  0.292964\n",
            "1     0.397  0.40800  0.39565  0.286023\n",
            "2     0.400  0.40600  0.36120  0.261119\n",
            "3     0.350  0.44400  0.40880  0.295530\n",
            "4     0.404  0.40400  0.37910  0.274059\n",
            "...     ...      ...      ...       ...\n",
            "2462  2.180  2.21000  2.18550  2.185500\n",
            "2463  2.215  2.21500  2.12150  2.121500\n",
            "2464  2.132  2.14450  1.89400  1.894000\n",
            "2465  1.914  1.98850  1.89500  1.895000\n",
            "2466  1.890  1.90900  1.87000  1.870000\n",
            "\n",
            "[2467 rows x 4 columns]\n"
          ]
        }
      ],
      "source": [
        "df['Open'] = df['Open']/100\n",
        "df['High'] = df['High']/100\n",
        "df['Volume'] = df['Volume']*100\n",
        "df['Close'] = df['Close']/100\n",
        "print(df)\n",
        "nan_value_index = []\n",
        "High = df.High.isnull()\n",
        "for i in range(0, len(High)):\n",
        "    if High[i] == 1:\n",
        "        nan_value_index.append(i)\n",
        "        df['High'][i] = 0\n",
        "Open = df.Open.isnull()\n",
        "for i in range(0, len(Open)):\n",
        "    if Open[i] == 1:\n",
        "        nan_value_index.append(i)\n",
        "        df['Open'][i] = 0\n",
        "Volume = df.Volume.isnull()\n",
        "for i in range(0, len(Volume)):\n",
        "    if Volume[i] == 1:\n",
        "        nan_value_index.append(i)\n",
        "        df['Volume'][i] = 0\n",
        "Close = df.Close.isnull()\n",
        "for i in range(0, len(Close)):\n",
        "    if Close[i] == 1:\n",
        "        nan_value_index.append(i)\n",
        "        df['Close'][i] = 0"
      ]
    },
    {
      "cell_type": "code",
      "execution_count": 19,
      "metadata": {
        "id": "NBsDNDjknbm_"
      },
      "outputs": [],
      "source": [
        "X = df[['High','Open', 'Volume']]\n",
        "Y = df[['Close']]\n",
        "factor = 0.80\n",
        "length = X.shape[0]\n",
        "total_for_train = int(length*factor)\n",
        "X_train = X[:total_for_train]\n",
        "Y_train = Y[:total_for_train]\n",
        "X_test = X[total_for_train:]\n",
        "Y_test = Y[total_for_train:]"
      ]
    },
    {
      "cell_type": "code",
      "execution_count": 20,
      "metadata": {
        "deletable": true,
        "editable": true,
        "colab": {
          "base_uri": "https://localhost:8080/"
        },
        "id": "gmrpHvB3nbnA",
        "outputId": "da44c087-0302-4224-ac7f-d1344fc9f5b9"
      },
      "outputs": [
        {
          "output_type": "stream",
          "name": "stdout",
          "text": [
            "X_train (1973, 3)\n",
            "y_train (1973, 1)\n",
            "X_test (494, 3)\n",
            "y_test (494, 1)\n"
          ]
        }
      ],
      "source": [
        "print(\"X_train\", X_train.shape)\n",
        "print(\"y_train\", Y_train.shape)\n",
        "print(\"X_test\", X_test.shape)\n",
        "print(\"y_test\", Y_test.shape)"
      ]
    },
    {
      "cell_type": "markdown",
      "metadata": {
        "id": "QhA__cFbnbnA"
      },
      "source": [
        "<h2>Compiling and training the neural network model</h2>"
      ]
    },
    {
      "cell_type": "code",
      "execution_count": 21,
      "metadata": {
        "collapsed": true,
        "deletable": true,
        "editable": true,
        "colab": {
          "base_uri": "https://localhost:8080/"
        },
        "id": "6YABxQGMnbnA",
        "outputId": "cb9fd6e3-1878-4e59-eb80-2255c13ce45b"
      },
      "outputs": [
        {
          "output_type": "stream",
          "name": "stdout",
          "text": [
            "Epoch 1/10\n",
            "15/15 [==============================] - 1s 15ms/step - loss: 0.1834 - val_loss: 0.8216\n",
            "Epoch 2/10\n",
            "15/15 [==============================] - 0s 5ms/step - loss: 0.1697 - val_loss: 0.7859\n",
            "Epoch 3/10\n",
            "15/15 [==============================] - 0s 6ms/step - loss: 0.1542 - val_loss: 0.7401\n",
            "Epoch 4/10\n",
            "15/15 [==============================] - 0s 6ms/step - loss: 0.1360 - val_loss: 0.6774\n",
            "Epoch 5/10\n",
            "15/15 [==============================] - 0s 8ms/step - loss: 0.1135 - val_loss: 0.5929\n",
            "Epoch 6/10\n",
            "15/15 [==============================] - 0s 9ms/step - loss: 0.0872 - val_loss: 0.4856\n",
            "Epoch 7/10\n",
            "15/15 [==============================] - 0s 8ms/step - loss: 0.0586 - val_loss: 0.3638\n",
            "Epoch 8/10\n",
            "15/15 [==============================] - 0s 9ms/step - loss: 0.0328 - val_loss: 0.2441\n",
            "Epoch 9/10\n",
            "15/15 [==============================] - 0s 8ms/step - loss: 0.0150 - val_loss: 0.1515\n",
            "Epoch 10/10\n",
            "15/15 [==============================] - 0s 6ms/step - loss: 0.0076 - val_loss: 0.1001\n"
          ]
        },
        {
          "output_type": "execute_result",
          "data": {
            "text/plain": [
              "<keras.callbacks.History at 0x7fe2cdecb820>"
            ]
          },
          "metadata": {},
          "execution_count": 21
        }
      ],
      "source": [
        "classifier = Sequential()\n",
        "classifier.add(Dense(units = 32, kernel_initializer = 'uniform', activation = 'relu', input_dim = 3))\n",
        "classifier.add(Dense(units = 10, kernel_initializer = 'uniform', activation = 'relu'))\n",
        "classifier.add(Dense(units = 1, kernel_initializer = 'uniform', activation = 'linear'))\n",
        "classifier.compile(optimizer = 'adam', loss = 'mean_squared_error', metrics = [])\n",
        "classifier.fit(X_train, Y_train, batch_size = 128, epochs = 10, validation_split=0.05)"
      ]
    },
    {
      "cell_type": "markdown",
      "metadata": {
        "id": "Srt5oDspnbnA"
      },
      "source": [
        "<h2>Predicted Values</h2>"
      ]
    },
    {
      "cell_type": "code",
      "execution_count": 22,
      "metadata": {
        "colab": {
          "base_uri": "https://localhost:8080/"
        },
        "id": "ytAeq74snbnA",
        "outputId": "a48c9d59-8151-4516-f602-9c7cfd0071a2"
      },
      "outputs": [
        {
          "output_type": "stream",
          "name": "stdout",
          "text": [
            "16/16 [==============================] - 0s 3ms/step\n",
            "[[0.72942644]\n",
            " [0.72695595]\n",
            " [0.7230211 ]\n",
            " [0.7268784 ]\n",
            " [0.72267425]\n",
            " [0.71996045]\n",
            " [0.7123224 ]\n",
            " [0.71316814]\n",
            " [0.71384597]\n",
            " [0.7347026 ]]\n"
          ]
        }
      ],
      "source": [
        "predictions = classifier.predict(X_test)\n",
        "print(predictions[:10])"
      ]
    },
    {
      "cell_type": "markdown",
      "metadata": {
        "id": "pOmDmWFxnbnA"
      },
      "source": [
        "Execute the trained model"
      ]
    },
    {
      "cell_type": "markdown",
      "metadata": {
        "id": "RH56-51CnbnB"
      },
      "source": [
        "<h2>Calculating the error in the trained Neural Network model</h2>"
      ]
    },
    {
      "cell_type": "code",
      "execution_count": 23,
      "metadata": {
        "colab": {
          "base_uri": "https://localhost:8080/"
        },
        "id": "PgR4Dav5nbnB",
        "outputId": "29171352-f990-4130-f2ca-017ec7dfb0df"
      },
      "outputs": [
        {
          "output_type": "stream",
          "name": "stdout",
          "text": [
            "Train Score: 0.01 MSE (0.11 RMSE)\n",
            "Test Score: 1.40 MSE (1.18 RMSE)\n"
          ]
        }
      ],
      "source": [
        "trainScore = classifier.evaluate(X_train, Y_train, verbose=0)\n",
        "print('Train Score: %.2f MSE (%.2f RMSE)' % (trainScore, math.sqrt(trainScore)))\n",
        "testScore = classifier.evaluate(X_test, Y_test, verbose=0)\n",
        "print('Test Score: %.2f MSE (%.2f RMSE)' % (testScore, math.sqrt(testScore)))"
      ]
    },
    {
      "cell_type": "markdown",
      "metadata": {
        "id": "HqspLkpGnbnB"
      },
      "source": [
        "<h2>Predictions vs Real results</h2>"
      ]
    },
    {
      "cell_type": "code",
      "execution_count": 24,
      "metadata": {
        "colab": {
          "base_uri": "https://localhost:8080/",
          "height": 850
        },
        "id": "CJG7OJAVnbnB",
        "outputId": "3a91919a-de5e-470c-a103-7183965d190e"
      },
      "outputs": [
        {
          "output_type": "display_data",
          "data": {
            "text/plain": [
              "<Figure size 640x480 with 1 Axes>"
            ],
            "image/png": "[encoded data removed]"
          },
          "metadata": {}
        },
        {
          "output_type": "display_data",
          "data": {
            "text/plain": [
              "<Figure size 640x480 with 1 Axes>"
            ],
            "image/png": "[encoded data removed]"
          },
          "metadata": {}
        }
      ],
      "source": [
        "import matplotlib.pyplot as plt\n",
        "plt.plot(predictions,color='red', label='Predictions from the trained model')\n",
        "plt.legend(loc='upper left')\n",
        "plt.show()\n",
        "plt.plot(Y_test,color='blue', label='Read values for the stock')\n",
        "plt.legend(loc='upper left')\n",
        "plt.show()"
      ]
    },
    {
      "cell_type": "markdown",
      "source": [
        "\n",
        "Since this is a regression problem and not a classification problem, there won't be an accuracy curve."
      ],
      "metadata": {
        "id": "eKNGVkeeTnjk"
      }
    }
  ],
  "metadata": {
    "kernelspec": {
      "display_name": "Python 3",
      "language": "python",
      "name": "python3"
    },
    "language_info": {
      "codemirror_mode": {
        "name": "ipython",
        "version": 3
      },
      "file_extension": ".py",
      "mimetype": "text/x-python",
      "name": "python",
      "nbconvert_exporter": "python",
      "pygments_lexer": "ipython3",
      "version": "3.5.2"
    },
    "colab": {
      "provenance": []
    }
  },
  "nbformat": 4,
  "nbformat_minor": 0
}